{
 "cells": [
  {
   "cell_type": "markdown",
   "metadata": {},
   "source": [
    "### Interpreting Logs\n",
    "- `cat`: The category of the event (e.g., operator, execution, memory allocation)\n",
    "  - `\"Session\"`: Session-level activities (e.g., model loading, session initialization)\n",
    "  - `\"Node\"`: Node-level activities (e.g., execution of individual operations in the model graph)\n",
    "- `name`: Name of the operator or event\n",
    "- `dur`: Duration of the event (in microseconds)\n",
    "- `ts`: Timestamp of the event (relative to the start of profiling)\n",
    "- `ph`: Event Phase; Indicates the type of profiling event (\"X\" typically represents a complete event)\n",
    "- `args`: Provides additional details about the event, such as operator information, shapes, sizes, and execution provider\n",
    "\n",
    "### Suggestions for Analysis\n",
    "1. **Verify Session Lifecycle:**\n",
    "   - Check if your program is creating more sessions than expected. Look at where and how `OrtSession` objects are created\n",
    "   - If unintended sessions are created, ensure proper session re-use or cleanup\n",
    "2. **Aggregate Logs if Necessary:**\n",
    "   - If you want a unified view, you can combine these logs into a single JSON or CSV for easier comparison of execution times and bottlenecks\n",
    "3. **Use Profiling Tools:**\n",
    "   - Tools like `chrome://tracing` (in Google Chrome) can load these logs to provide a visual timeline of execution events"
   ]
  },
  {
   "cell_type": "code",
   "execution_count": null,
   "metadata": {},
   "outputs": [],
   "source": [
    "import json, re, os\n",
    "\n",
    "def readLog(log_name):\n",
    "    # Open and read the JSON file\n",
    "    with open(log_name, 'r') as file:\n",
    "        data = json.load(file)\n",
    "\n",
    "    # Display the contents of the JSON file\n",
    "    #for i in data: print(i)\n",
    "    return data\n",
    "\n",
    "def getLog(log_prefix):\n",
    "    log_files = dict()\n",
    "    files = os.listdir()    # Get the list of files in the current directory\n",
    "\n",
    "    # Iterate through the list of files\n",
    "    for file in files:\n",
    "        # Add log files with matching prefixes\n",
    "        if file.startswith(log_prefix):     #if re.match(log_prefix, file):\n",
    "            with open(file, 'r') as f:\n",
    "                log_files[file] = json.load(f)\n",
    "\n",
    "    return log_files\n",
    "\n",
    "#data = readLog(\"gibb_profile.log_2024-12-05_18-21-56.json\")\n",
    "p = getLog(\"gibb_profile\")\n"
   ]
  },
  {
   "cell_type": "code",
   "execution_count": 6,
   "metadata": {},
   "outputs": [
    {
     "name": "stdout",
     "output_type": "stream",
     "text": [
      "(2) \"gibb_profile.log_2024-12-05_18-21-53.json\":\n",
      "  [0.00] Session: \"model_loading_uri\" Duration =  0.296 sec\n",
      "  [0.30] Session: \"session_initialization\" Duration =  0.486 sec\n",
      "\n",
      "(2) \"gibb_profile.log_2024-12-05_18-21-54.json\":\n",
      "  [0.00] Session: \"model_loading_uri\" Duration =  0.440 sec\n",
      "  [0.44] Session: \"session_initialization\" Duration =  0.596 sec\n",
      "\n",
      "(2) \"gibb_profile.log_2024-12-05_18-21-55.json\":\n",
      "  [0.00] Session: \"model_loading_uri\" Duration =  0.409 sec\n",
      "  [0.41] Session: \"session_initialization\" Duration =  0.557 sec\n",
      "\n",
      "(778) \"gibb_profile.log_2024-12-05_18-21-56.json\":\n",
      "  [0.00] Session: \"model_loading_uri\"\n",
      "    - Duration: 0.184 sec\n",
      "\n",
      "  [0.18] Session: \"session_initialization\"\n",
      "    - Duration: 0.236 sec\n",
      "\n",
      "  [0.54] Session: \"SequentialExecutor::Execute\"\n",
      "    - Duration: 0.042 sec\n",
      "\n",
      "  [0.54] Session: \"model_run\"\n",
      "    - Duration: 0.042 sec\n",
      "\n"
     ]
    }
   ],
   "source": [
    "for k,v in p.items():\n",
    "    print(f'({len(v)}) \"{k}\":')\n",
    "    if k != \"gibb_profile.log_2024-12-05_18-21-56.json\":\n",
    "        for event in v:\n",
    "            #print(\"  >\", i)\n",
    "            ts = event['ts'] / 1_000_000    # Timestamp in seconds\n",
    "            dur = event['dur'] / 1_000_000  # Duration in seconds\n",
    "            # Remove some fields\n",
    "            filtered_event = {key: value for key, value in event.items() if key not in ['pid', 'tid', 'cat', 'name', 'dur', 'ts']}\n",
    "            print(f\"  [{ts:.2f}] {event['cat']}: \\\"{event[\"name\"]}\\\" Duration =  {dur:.3f} sec\")#, filtered_event)\n",
    "\n",
    "        print()\n",
    "        continue\n",
    "    \n",
    "    session_events = [event for event in v if event['cat'] == 'Session']\n",
    "    for event in session_events:\n",
    "        ts = event['ts'] / 1_000_000    # Timestamp in seconds\n",
    "        dur = event['dur'] / 1_000_000  # Duration in seconds\n",
    "        ph = event['ph']\n",
    "        filtered_event = {key: value for key, value in event.items() if key not in ['pid', 'tid', 'cat', 'name', 'dur', 'ts']}\n",
    "\n",
    "        print(f\"  [{ts:.2f}] {event['cat']}: \\\"{event[\"name\"]}\\\"\")#, filtered_event)\n",
    "        print(f\"    - Duration: {dur:.3f} sec\")\n",
    "        if ph != \"X\": print(f\"    - Event Phase: {ph}\")\n",
    "        if event['args'] != {}: print(f\"    - Args: {event['args']}\")\n",
    "        print()\n"
   ]
  },
  {
   "cell_type": "code",
   "execution_count": 20,
   "metadata": {},
   "outputs": [
    {
     "name": "stdout",
     "output_type": "stream",
     "text": [
      "774\n",
      "Total duration for '/distilbert/embeddings/': 169\n",
      "Total duration for '/distilbert/transformer/layer': 38349\n",
      "27\n",
      "Node - 'Gelu_fence_before': 0\n",
      "Node - 'Gelu_kernel_time': 247\n",
      "Node - 'Gelu_fence_after': 0\n",
      "Node - 'Gelu_token_0_fence_before': 0\n",
      "Node - 'Gelu_token_0_kernel_time': 231\n",
      "Node - 'Gelu_token_0_fence_after': 0\n",
      "Node - 'Gelu_token_1_fence_before': 0\n",
      "Node - 'Gelu_token_1_kernel_time': 227\n",
      "Node - 'Gelu_token_1_fence_after': 0\n",
      "Node - 'Gelu_token_2_fence_before': 0\n",
      "Node - 'Gelu_token_2_kernel_time': 226\n",
      "Node - 'Gelu_token_2_fence_after': 0\n",
      "Node - 'Gelu_token_3_fence_before': 0\n",
      "Node - 'Gelu_token_3_kernel_time': 225\n",
      "Node - 'Gelu_token_3_fence_after': 0\n",
      "Node - 'Gelu_token_4_fence_before': 0\n",
      "Node - 'Gelu_token_4_kernel_time': 225\n",
      "Node - 'Gelu_token_4_fence_after': 0\n",
      "Node - '/Gather_fence_before': 0\n",
      "Node - '/Gather_kernel_time': 4\n",
      "Node - '/Gather_fence_after': 0\n",
      "Node - 'fused /pre_classifier/Gemm_fence_before': 0\n",
      "Node - 'fused /pre_classifier/Gemm_kernel_time': 194\n",
      "Node - 'fused /pre_classifier/Gemm_fence_after': 0\n",
      "Node - '/classifier/Gemm_fence_before': 0\n",
      "Node - '/classifier/Gemm_kernel_time': 8\n",
      "Node - '/classifier/Gemm_fence_after': 0\n"
     ]
    }
   ],
   "source": [
    "data = readLog(\"gibb_profile.log_2024-12-05_18-21-56.json\")\n",
    "g = [\"/distilbert/embeddings/\", \"/distilbert/transformer/layer\"]\n",
    "\n",
    "data = [el for el in data if el['cat'] == 'Node']\n",
    "print(len(data))\n",
    "for i in g:\n",
    "    d = [el for el in data if el['name'].startswith(i)]\n",
    "    data = [el for el in data if not el['name'].startswith(i)]\n",
    "    total_dur = sum(el['dur'] for el in d)\n",
    "    print(f\"Total duration for '{i}': {total_dur}\")\n",
    "\n",
    "print(len(data))\n",
    "\n",
    "for i in data: print(f\"Node - '{i['name']}':\", i['dur'])"
   ]
  },
  {
   "cell_type": "code",
   "execution_count": 26,
   "metadata": {},
   "outputs": [
    {
     "data": {
      "text/plain": [
       "14"
      ]
     },
     "execution_count": 26,
     "metadata": {},
     "output_type": "execute_result"
    }
   ],
   "source": [
    "len([    \"Load Config\", \n",
    "    \"Create Geco\", \n",
    "    \"GEC Preproc\", \n",
    "    \"Encoder\", \n",
    "    \"Main Decoder\", \n",
    "    \"Past Decoder\", \n",
    "    \"All Decoders\", \n",
    "    \"Get Max Tokens\", \n",
    "    \"GEC Postproc\",\n",
    "    \"Grammar\", \n",
    "    \"Gibb Preproc\",\n",
    "    \"Calculate Softmax\",\n",
    "    \"Gibberish\",\n",
    "    \"Destroy Geco\", ])"
   ]
  },
  {
   "cell_type": "code",
   "execution_count": 23,
   "metadata": {},
   "outputs": [
    {
     "name": "stdout",
     "output_type": "stream",
     "text": [
      "#include <assert.h>\n",
      "#include <json-c/json.h>\n",
      "#include <math.h>\n",
      "#include <stdarg.h>\n",
      "#include <stdbool.h>\n",
      "#include <stdio.h>\n",
      "#include <stdlib.h>\n",
      "#include <string.h>\n",
      "#include <string.h>\n",
      "#include <time.h>\n"
     ]
    }
   ],
   "source": [
    "x = \"\"\"\n",
    "#include <assert.h>\n",
    "#include <json-c/json.h>\n",
    "#include <math.h>\n",
    "#include <stdbool.h>\n",
    "#include <stdio.h>\n",
    "#include <stdlib.h>\n",
    "#include <string.h>\n",
    "#include <time.h>\n",
    "#include <stdarg.h>\n",
    "#include <string.h>\n",
    "\"\"\"\n",
    "# Sort the lines of the string alphabetically\n",
    "sorted_lines = sorted(x.strip().split('\\n'))\n",
    "\n",
    "# Join the sorted lines back into a single string\n",
    "x_sorted = '\\n'.join(sorted_lines)\n",
    "\n",
    "print(x_sorted)"
   ]
  },
  {
   "cell_type": "code",
   "execution_count": 4,
   "metadata": {},
   "outputs": [
    {
     "name": "stdout",
     "output_type": "stream",
     "text": [
      "\"prof2.log_2024-12-05_17-48-23.json\"\n",
      "\"prof2.log_2024-12-05_17-48-24.json\"\n",
      "\"prof2.log_2024-12-05_17-48-25.json\"\n",
      "\"prof2.log_2024-12-05_17-48-26.json\"\n"
     ]
    }
   ],
   "source": [
    "import os\n",
    "\n",
    "# List the file names in this directory\n",
    "# List the file names in the current directory\n",
    "file_names = os.listdir('.')\n",
    "for i in file_names:\n",
    "    if i.startswith(\"prof2\"): print(f'\"{i}\"')"
   ]
  },
  {
   "cell_type": "code",
   "execution_count": 9,
   "metadata": {},
   "outputs": [
    {
     "name": "stdout",
     "output_type": "stream",
     "text": [
      "Counter({'Node': 2100, 'Session': 4})\n",
      "Counter({'X': 2104})\n"
     ]
    }
   ],
   "source": [
    "from collections import Counter\n",
    "\n",
    "def getFieldCounts(data, fieldName):\n",
    "    # Count the occurrences of each unique value in the \"cat\" field\n",
    "    val_counts = Counter(item[fieldName] for item in data)\n",
    "    \n",
    "    # Display the counts\n",
    "    print(val_counts)\n",
    "\n",
    "getFieldCounts(data, \"cat\")\n",
    "getFieldCounts(data, \"ph\")\n"
   ]
  },
  {
   "cell_type": "code",
   "execution_count": 7,
   "metadata": {},
   "outputs": [
    {
     "name": "stdout",
     "output_type": "stream",
     "text": [
      "436.292\n"
     ]
    }
   ],
   "source": [
    "x = 436292\n",
    "# Convert the value from microseconds to milliseconds\n",
    "x_ms = x / 1000\n",
    "print(x_ms)\n"
   ]
  },
  {
   "cell_type": "code",
   "execution_count": 12,
   "metadata": {},
   "outputs": [
    {
     "name": "stdout",
     "output_type": "stream",
     "text": [
      "ITEM: {'cat': 'Session', 'pid': 75084, 'tid': 75084, 'dur': 436292, 'ts': 430001, 'ph': 'X', 'name': 'session_initialization', 'args': {}}\n",
      " > Category: 'Session'\n",
      " > Duration: 436.29 ms\n",
      "\n",
      "ITEM: {'cat': 'Session', 'pid': 75084, 'tid': 75084, 'dur': 429995, 'ts': 1, 'ph': 'X', 'name': 'model_loading_uri', 'args': {}}\n",
      " > Category: 'Session'\n",
      " > Duration: 430.0 ms\n",
      "\n",
      "ITEM: {'cat': 'Session', 'pid': 75084, 'tid': 75084, 'dur': 59052, 'ts': 1840253, 'ph': 'X', 'name': 'model_run', 'args': {}}\n",
      " > Category: 'Session'\n",
      " > Duration: 59.05 ms\n",
      "\n",
      "ITEM: {'cat': 'Session', 'pid': 75084, 'tid': 75084, 'dur': 58938, 'ts': 1840309, 'ph': 'X', 'name': 'SequentialExecutor::Execute', 'args': {}}\n",
      " > Category: 'Session'\n",
      " > Duration: 58.94 ms\n",
      "\n",
      "ITEM: {'cat': 'Node', 'pid': 75084, 'tid': 75084, 'dur': 7585, 'ts': 1891084, 'ph': 'X', 'name': '/lm_head/MatMul_kernel_time', 'args': {'thread_scheduling_stats': '', 'output_type_shape': [{'float': [5, 1, 32128]}], 'output_size': '642560', 'parameter_size': '0', 'activation_size': '15360', 'node_index': '1118', 'input_type_shape': [{'float': [5, 1, 768]}], 'provider': 'CPUExecutionProvider', 'op_name': 'MatMul'}}\n",
      " > Category: 'Node'\n",
      " > Duration: 7.58 ms\n",
      "\n",
      "ITEM: {'cat': 'Node', 'pid': 75084, 'tid': 75084, 'dur': 777, 'ts': 1851950, 'ph': 'X', 'name': '/decoder/block.2/layer.2/DenseReluDense/wi/MatMul_kernel_time', 'args': {'thread_scheduling_stats': '', 'output_type_shape': [{'float': [5, 1, 3072]}], 'output_size': '61440', 'parameter_size': '0', 'activation_size': '15360', 'node_index': '331', 'input_type_shape': [{'float': [5, 1, 768]}], 'provider': 'CPUExecutionProvider', 'op_name': 'MatMul'}}\n",
      " > Category: 'Node'\n",
      " > Duration: 0.78 ms\n",
      "\n",
      "ITEM: {'cat': 'Node', 'pid': 75084, 'tid': 75084, 'dur': 773, 'ts': 1872972, 'ph': 'X', 'name': '/decoder/block.7/layer.2/DenseReluDense/wi/MatMul_kernel_time', 'args': {'thread_scheduling_stats': '', 'output_type_shape': [{'float': [5, 1, 3072]}], 'output_size': '61440', 'parameter_size': '0', 'activation_size': '15360', 'node_index': '761', 'input_type_shape': [{'float': [5, 1, 768]}], 'provider': 'CPUExecutionProvider', 'op_name': 'MatMul'}}\n",
      " > Category: 'Node'\n",
      " > Duration: 0.77 ms\n",
      "\n",
      "ITEM: {'cat': 'Node', 'pid': 75084, 'tid': 75084, 'dur': 772, 'ts': 1864493, 'ph': 'X', 'name': '/decoder/block.5/layer.2/DenseReluDense/wi/MatMul_kernel_time', 'args': {'thread_scheduling_stats': '', 'output_type_shape': [{'float': [5, 1, 3072]}], 'output_size': '61440', 'parameter_size': '0', 'activation_size': '15360', 'node_index': '589', 'input_type_shape': [{'float': [5, 1, 768]}], 'provider': 'CPUExecutionProvider', 'op_name': 'MatMul'}}\n",
      " > Category: 'Node'\n",
      " > Duration: 0.77 ms\n",
      "\n",
      "ITEM: {'cat': 'Node', 'pid': 75084, 'tid': 75084, 'dur': 762, 'ts': 1868731, 'ph': 'X', 'name': '/decoder/block.6/layer.2/DenseReluDense/wi/MatMul_kernel_time', 'args': {'thread_scheduling_stats': '', 'output_type_shape': [{'float': [5, 1, 3072]}], 'output_size': '61440', 'parameter_size': '0', 'activation_size': '15360', 'node_index': '675', 'input_type_shape': [{'float': [5, 1, 768]}], 'provider': 'CPUExecutionProvider', 'op_name': 'MatMul'}}\n",
      " > Category: 'Node'\n",
      " > Duration: 0.76 ms\n",
      "\n",
      "ITEM: {'cat': 'Node', 'pid': 75084, 'tid': 75084, 'dur': 752, 'ts': 1890277, 'ph': 'X', 'name': '/decoder/block.11/layer.2/DenseReluDense/wo/MatMul_kernel_time', 'args': {'thread_scheduling_stats': '', 'output_type_shape': [{'float': [5, 1, 768]}], 'output_size': '15360', 'parameter_size': '0', 'activation_size': '61440', 'node_index': '1107', 'input_type_shape': [{'float': [5, 1, 3072]}], 'provider': 'CPUExecutionProvider', 'op_name': 'MatMul'}}\n",
      " > Category: 'Node'\n",
      " > Duration: 0.75 ms\n",
      "\n"
     ]
    }
   ],
   "source": [
    "# Sort the data by the \"dur\" field in descending order and get the first 10 objects\n",
    "top_10_dur = sorted(data, key=lambda x: x['dur'], reverse=True)[:10]\n",
    "\n",
    "# Display the top 10 objects\n",
    "for item in top_10_dur:\n",
    "    print(\"ITEM:\", item)\n",
    "    print(f\" > Category: {repr(item['cat'])}\")\n",
    "    print(f\" > Duration: {round((item['dur']/1000), 2)} ms\")\n",
    "    #print(f\" > Category: {repr(item['cat'])}\")\n",
    "    print()\n"
   ]
  },
  {
   "cell_type": "code",
   "execution_count": 2,
   "metadata": {},
   "outputs": [
    {
     "name": "stdout",
     "output_type": "stream",
     "text": [
      "4\n"
     ]
    }
   ],
   "source": [
    "# Filter out objects where the \"cat\" field is \"Node\"\n",
    "filtered_data = [item for item in data if item['cat'] != 'Node']\n",
    "\n",
    "# Display the length of the filtered data\n",
    "print(len(filtered_data))\n"
   ]
  }
 ],
 "metadata": {
  "kernelspec": {
   "display_name": "Python 3",
   "language": "python",
   "name": "python3"
  },
  "language_info": {
   "codemirror_mode": {
    "name": "ipython",
    "version": 3
   },
   "file_extension": ".py",
   "mimetype": "text/x-python",
   "name": "python",
   "nbconvert_exporter": "python",
   "pygments_lexer": "ipython3",
   "version": "3.12.8"
  }
 },
 "nbformat": 4,
 "nbformat_minor": 2
}
